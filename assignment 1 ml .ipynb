{
 "cells": [
  {
   "cell_type": "code",
   "execution_count": 99,
   "id": "6adb82ce-71ee-42f7-97b3-a4fa3ffacdb1",
   "metadata": {},
   "outputs": [],
   "source": [
    "#Import necessary module\n",
    "import pandas as pd\n",
    "from sklearn.model_selection import train_test_split\n",
    "from sklearn.metrics import accuracy_score"
   ]
  },
  {
   "cell_type": "code",
   "execution_count": 101,
   "id": "855b052f-4dc0-4f81-b5dd-754ec2f53c5f",
   "metadata": {},
   "outputs": [],
   "source": [
    "#Reading the 'air cargo supplychian.csv' and stored in df\n",
    "df = pd.read_csv(\"air cargo supplychain.csv\")"
   ]
  },
  {
   "cell_type": "code",
   "execution_count": 103,
   "id": "6181256f-a093-4475-b939-081d20891b3e",
   "metadata": {},
   "outputs": [
    {
     "data": {
      "text/html": [
       "<div>\n",
       "<style scoped>\n",
       "    .dataframe tbody tr th:only-of-type {\n",
       "        vertical-align: middle;\n",
       "    }\n",
       "\n",
       "    .dataframe tbody tr th {\n",
       "        vertical-align: top;\n",
       "    }\n",
       "\n",
       "    .dataframe thead th {\n",
       "        text-align: right;\n",
       "    }\n",
       "</style>\n",
       "<table border=\"1\" class=\"dataframe\">\n",
       "  <thead>\n",
       "    <tr style=\"text-align: right;\">\n",
       "      <th></th>\n",
       "      <th>Shipment ID</th>\n",
       "      <th>Origin Airport</th>\n",
       "      <th>Destination Airport</th>\n",
       "      <th>Shipment Weight (kg)</th>\n",
       "      <th>Shipment Volume (m³)</th>\n",
       "      <th>Freight Cost (USD)</th>\n",
       "      <th>Mode of Transport</th>\n",
       "      <th>Carrier Name</th>\n",
       "      <th>Transit Time (hours)</th>\n",
       "      <th>Temperature-Sensitive</th>\n",
       "      <th>Perishable Goods</th>\n",
       "      <th>Customs Clearance Time (hours)</th>\n",
       "      <th>Weather Conditions</th>\n",
       "      <th>Day of Week</th>\n",
       "      <th>Delay Status</th>\n",
       "    </tr>\n",
       "  </thead>\n",
       "  <tbody>\n",
       "    <tr>\n",
       "      <th>0</th>\n",
       "      <td>SHIP000001</td>\n",
       "      <td>SFO</td>\n",
       "      <td>LHR</td>\n",
       "      <td>655.03</td>\n",
       "      <td>7.80</td>\n",
       "      <td>1238.23</td>\n",
       "      <td>Air</td>\n",
       "      <td>UPS</td>\n",
       "      <td>16</td>\n",
       "      <td>No</td>\n",
       "      <td>Yes</td>\n",
       "      <td>7</td>\n",
       "      <td>Clear</td>\n",
       "      <td>Thursday</td>\n",
       "      <td>Delayed</td>\n",
       "    </tr>\n",
       "    <tr>\n",
       "      <th>1</th>\n",
       "      <td>SHIP000002</td>\n",
       "      <td>ATL</td>\n",
       "      <td>SIN</td>\n",
       "      <td>988.60</td>\n",
       "      <td>37.41</td>\n",
       "      <td>1868.80</td>\n",
       "      <td>Air</td>\n",
       "      <td>Lufthansa Cargo</td>\n",
       "      <td>21</td>\n",
       "      <td>No</td>\n",
       "      <td>No</td>\n",
       "      <td>5</td>\n",
       "      <td>Clear</td>\n",
       "      <td>Thursday</td>\n",
       "      <td>On-Time</td>\n",
       "    </tr>\n",
       "    <tr>\n",
       "      <th>2</th>\n",
       "      <td>SHIP000003</td>\n",
       "      <td>DFW</td>\n",
       "      <td>HKG</td>\n",
       "      <td>637.71</td>\n",
       "      <td>10.53</td>\n",
       "      <td>1205.49</td>\n",
       "      <td>Air</td>\n",
       "      <td>FedEx</td>\n",
       "      <td>6</td>\n",
       "      <td>No</td>\n",
       "      <td>No</td>\n",
       "      <td>36</td>\n",
       "      <td>Clear</td>\n",
       "      <td>Wednesday</td>\n",
       "      <td>On-Time</td>\n",
       "    </tr>\n",
       "    <tr>\n",
       "      <th>3</th>\n",
       "      <td>SHIP000004</td>\n",
       "      <td>SFO</td>\n",
       "      <td>DXB</td>\n",
       "      <td>367.47</td>\n",
       "      <td>7.70</td>\n",
       "      <td>694.65</td>\n",
       "      <td>Rail</td>\n",
       "      <td>DHL</td>\n",
       "      <td>17</td>\n",
       "      <td>Yes</td>\n",
       "      <td>No</td>\n",
       "      <td>16</td>\n",
       "      <td>Rainy</td>\n",
       "      <td>Sunday</td>\n",
       "      <td>On-Time</td>\n",
       "    </tr>\n",
       "    <tr>\n",
       "      <th>4</th>\n",
       "      <td>SHIP000005</td>\n",
       "      <td>ORD</td>\n",
       "      <td>HKG</td>\n",
       "      <td>671.23</td>\n",
       "      <td>3.59</td>\n",
       "      <td>1268.86</td>\n",
       "      <td>Air</td>\n",
       "      <td>DHL</td>\n",
       "      <td>36</td>\n",
       "      <td>No</td>\n",
       "      <td>No</td>\n",
       "      <td>3</td>\n",
       "      <td>Rainy</td>\n",
       "      <td>Friday</td>\n",
       "      <td>Delayed</td>\n",
       "    </tr>\n",
       "  </tbody>\n",
       "</table>\n",
       "</div>"
      ],
      "text/plain": [
       "  Shipment ID Origin Airport Destination Airport  Shipment Weight (kg)  \\\n",
       "0  SHIP000001            SFO                 LHR                655.03   \n",
       "1  SHIP000002            ATL                 SIN                988.60   \n",
       "2  SHIP000003            DFW                 HKG                637.71   \n",
       "3  SHIP000004            SFO                 DXB                367.47   \n",
       "4  SHIP000005            ORD                 HKG                671.23   \n",
       "\n",
       "   Shipment Volume (m³)  Freight Cost (USD) Mode of Transport  \\\n",
       "0                  7.80             1238.23               Air   \n",
       "1                 37.41             1868.80               Air   \n",
       "2                 10.53             1205.49               Air   \n",
       "3                  7.70              694.65              Rail   \n",
       "4                  3.59             1268.86               Air   \n",
       "\n",
       "      Carrier Name  Transit Time (hours) Temperature-Sensitive  \\\n",
       "0              UPS                    16                    No   \n",
       "1  Lufthansa Cargo                    21                    No   \n",
       "2            FedEx                     6                    No   \n",
       "3              DHL                    17                   Yes   \n",
       "4              DHL                    36                    No   \n",
       "\n",
       "  Perishable Goods  Customs Clearance Time (hours) Weather Conditions  \\\n",
       "0              Yes                               7              Clear   \n",
       "1               No                               5              Clear   \n",
       "2               No                              36              Clear   \n",
       "3               No                              16              Rainy   \n",
       "4               No                               3              Rainy   \n",
       "\n",
       "  Day of Week Delay Status  \n",
       "0    Thursday      Delayed  \n",
       "1    Thursday      On-Time  \n",
       "2   Wednesday      On-Time  \n",
       "3      Sunday      On-Time  \n",
       "4      Friday      Delayed  "
      ]
     },
     "execution_count": 103,
     "metadata": {},
     "output_type": "execute_result"
    }
   ],
   "source": [
    "df.head(5)"
   ]
  },
  {
   "cell_type": "code",
   "execution_count": 105,
   "id": "97b31be2-9304-440d-b3e0-dd4c485d53ec",
   "metadata": {},
   "outputs": [],
   "source": [
    "#Using drop function we are droping 'Shipment ID'\n",
    "df = df.drop(columns=\"Shipment ID\")"
   ]
  },
  {
   "cell_type": "code",
   "execution_count": 107,
   "id": "ee78b12e-6aba-4f80-8b17-bfb2f59ee324",
   "metadata": {},
   "outputs": [],
   "source": [
    "#Here we are selection all Object columns like [Origin Airport, Destination Airport,etc...] in categorical Cols\n",
    "categorical_cols =df.select_dtypes(include=['object']).columns.tolist()"
   ]
  },
  {
   "cell_type": "code",
   "execution_count": 109,
   "id": "557b9790-acd5-4c43-b09e-e06daa74cf20",
   "metadata": {},
   "outputs": [],
   "source": [
    "#Using get_dummies we are converting the Object colunms into binary(0,1)\n",
    "df = pd.get_dummies(df, columns=categorical_cols, drop_first=True).astype(int)"
   ]
  },
  {
   "cell_type": "code",
   "execution_count": 111,
   "id": "0eeaf928-f89a-4ebc-8f56-eca34eaa1dd1",
   "metadata": {},
   "outputs": [],
   "source": [
    "#Giving X variable all Indepentent Variable and For y variable give Dependent Vairable\n",
    "X = df.drop(columns=[\"Delay Status_On-Time\"])\n",
    "y = df[\"Delay Status_On-Time\"]"
   ]
  },
  {
   "cell_type": "code",
   "execution_count": 113,
   "id": "31235ddb-0235-4e48-8311-f90ef863e165",
   "metadata": {},
   "outputs": [],
   "source": [
    "#Import Modelu to do Multi Regression and To calculate errors Import mean_square_error and r2_score\n",
    "from sklearn.linear_model import LinearRegression\n",
    "from sklearn.metrics import mean_squared_error, r2_score"
   ]
  },
  {
   "cell_type": "code",
   "execution_count": 115,
   "id": "40570a9b-6045-45ef-b7a7-152814ccbd5a",
   "metadata": {},
   "outputs": [],
   "source": [
    "#Here we are dividing the data set into Train and Test data using train_test_split \n",
    "X_train, X_test, y_train, y_test = train_test_split(X, y,test_size=0.2, random_state=2000)"
   ]
  },
  {
   "cell_type": "code",
   "execution_count": 117,
   "id": "47b1e6ab-07a7-46fc-96a6-0d59aeef3362",
   "metadata": {},
   "outputs": [],
   "source": [
    "mlr_reg = LinearRegression()"
   ]
  },
  {
   "cell_type": "code",
   "execution_count": 119,
   "id": "78c44f55-c3b2-4685-9522-a42ddec1faac",
   "metadata": {},
   "outputs": [],
   "source": [
    "#Fitting values into Multi Regerssion\n",
    "mlr_reg.fit(X_train, y_train)\n",
    "y_pred_mlr = mlr_reg.predict(X_test)"
   ]
  },
  {
   "cell_type": "code",
   "execution_count": 121,
   "id": "d605fe5a-b939-474e-9b85-837828d1025f",
   "metadata": {},
   "outputs": [],
   "source": [
    "#Calculating the Error\n",
    "mse = mean_squared_error(y_test, y_pred_mlr)\n",
    "r2 = r2_score(y_test, y_pred_mlr)"
   ]
  },
  {
   "cell_type": "code",
   "execution_count": 123,
   "id": "6bf7b4cc-d4e1-4c8f-ba89-ce1be9d113c8",
   "metadata": {},
   "outputs": [
    {
     "name": "stdout",
     "output_type": "stream",
     "text": [
      "Mean Squared Error: 0.250465479883202\n",
      "R-squared Score: -0.001962115744382764\n"
     ]
    }
   ],
   "source": [
    "print(\"Mean Squared Error:\", mse)\n",
    "print(\"R-squared Score:\", r2)"
   ]
  },
  {
   "cell_type": "code",
   "execution_count": 125,
   "id": "4306a4c8-dd82-447d-836e-378c272a1aa3",
   "metadata": {},
   "outputs": [],
   "source": [
    "#Here we are importing module for Logistic regression\n",
    "from sklearn.linear_model import LogisticRegression\n",
    "from sklearn.preprocessing import StandardScaler\n",
    "\n",
    "X_train, X_test, y_train, y_test = train_test_split(X, y,\n",
    "test_size=0.2, random_state=2000)"
   ]
  },
  {
   "cell_type": "code",
   "execution_count": 127,
   "id": "00bc7eff-7c86-4f03-994f-d7b21603770b",
   "metadata": {},
   "outputs": [],
   "source": [
    "#Using StandardScaler() we are removing the mean and Scaling to unit variance to improve the performance of model\n",
    "scaler = StandardScaler()\n",
    "X_train = scaler.fit_transform(X_train)\n",
    "X_test = scaler.transform(X_test)"
   ]
  },
  {
   "cell_type": "code",
   "execution_count": 129,
   "id": "14e695a8-9321-4fe3-8296-f3a4b6f46099",
   "metadata": {},
   "outputs": [],
   "source": [
    "log_reg = LogisticRegression(C=2.5)"
   ]
  },
  {
   "cell_type": "code",
   "execution_count": 131,
   "id": "ef25538e-915c-4db6-ac3e-17d3f16f3f09",
   "metadata": {},
   "outputs": [
    {
     "data": {
      "text/plain": [
       "0.505"
      ]
     },
     "execution_count": 131,
     "metadata": {},
     "output_type": "execute_result"
    }
   ],
   "source": [
    "#Fitting values into Logistic Regression\n",
    "log_reg.fit(X_train, y_train)\n",
    "y_pred_log = log_reg.predict(X_test)\n",
    "log_reg_acc = accuracy_score(y_test, y_pred_log)\n",
    "log_reg_acc"
   ]
  },
  {
   "cell_type": "code",
   "execution_count": 133,
   "id": "fa88c3bd-d32b-4009-9b80-d8d87b6795f8",
   "metadata": {},
   "outputs": [],
   "source": [
    "#Here we are importing module for DecisionTreeClassifier\n",
    "from sklearn.tree import DecisionTreeClassifier\n",
    "X_train, X_test, y_train, y_test = train_test_split(X, y,test_size=0.2, random_state=2000)"
   ]
  },
  {
   "cell_type": "code",
   "execution_count": 135,
   "id": "1183e0ac-1f35-4d57-a0e1-fd151a3b141e",
   "metadata": {},
   "outputs": [],
   "source": [
    "#Fitting values into DecisionTreeClassifier\n",
    "dt_clf = DecisionTreeClassifier()\n",
    "dt_clf.fit(X_train, y_train)\n",
    "y_pred_dt = dt_clf.predict(X_test)"
   ]
  },
  {
   "cell_type": "code",
   "execution_count": 137,
   "id": "b8d36eb6-59e6-4d0e-bb1e-deb32fd6e6fd",
   "metadata": {},
   "outputs": [
    {
     "data": {
      "text/plain": [
       "0.50725"
      ]
     },
     "execution_count": 137,
     "metadata": {},
     "output_type": "execute_result"
    }
   ],
   "source": [
    "dt_clf_acc = accuracy_score(y_test, y_pred_dt)\n",
    "dt_clf_acc"
   ]
  },
  {
   "cell_type": "code",
   "execution_count": 139,
   "id": "840b2c9d-f2ed-4f36-92ea-52bf92ecbd5d",
   "metadata": {},
   "outputs": [],
   "source": [
    "#Here we are importing module for RandomForestClassifier\n",
    "from sklearn.ensemble import RandomForestClassifier\n",
    "X_train, X_test, y_train, y_test = train_test_split(X, y,\n",
    "test_size=0.2, random_state=2000, stratify=y)"
   ]
  },
  {
   "cell_type": "code",
   "execution_count": 141,
   "id": "7a15d7cf-0fad-497b-99a3-dba70ffdfbe5",
   "metadata": {},
   "outputs": [
    {
     "data": {
      "text/plain": [
       "0.5005"
      ]
     },
     "execution_count": 141,
     "metadata": {},
     "output_type": "execute_result"
    }
   ],
   "source": [
    "#Fitting values into RandomForestClassifier\n",
    "rf_clf = RandomForestClassifier()\n",
    "rf_clf.fit(X_train, y_train)\n",
    "y_pred_rf = rf_clf.predict(X_test)\n",
    "rf_clf_acc = accuracy_score(y_test, y_pred_rf)\n",
    "rf_clf_acc"
   ]
  },
  {
   "cell_type": "code",
   "execution_count": 142,
   "id": "19cef395-eeb4-4e1c-8b1d-27c368f47d02",
   "metadata": {},
   "outputs": [],
   "source": [
    "#Here we are importing module for XGBClassifier\n",
    "\n",
    "from xgboost import XGBClassifier\n",
    "X_train, X_test, y_train, y_test = train_test_split(X, y,\n",
    "test_size=0.2, random_state=2000, stratify=y)"
   ]
  },
  {
   "cell_type": "code",
   "execution_count": 143,
   "id": "0bbd9e76-b716-445c-9a52-5b3eacf7f33c",
   "metadata": {},
   "outputs": [
    {
     "data": {
      "text/plain": [
       "0.49175"
      ]
     },
     "execution_count": 143,
     "metadata": {},
     "output_type": "execute_result"
    }
   ],
   "source": [
    "#Fitting values into XGBClassifier\n",
    "\n",
    "xb_clf = XGBClassifier()\n",
    "xb_clf.fit(X_train, y_train)\n",
    "y_pred_xb = xb_clf.predict(X_test)\n",
    "xb_clf_acc = accuracy_score(y_test, y_pred_xb)\n",
    "xb_clf_acc"
   ]
  }
 ],
 "metadata": {
  "kernelspec": {
   "display_name": "Python 3 (ipykernel)",
   "language": "python",
   "name": "python3"
  },
  "language_info": {
   "codemirror_mode": {
    "name": "ipython",
    "version": 3
   },
   "file_extension": ".py",
   "mimetype": "text/x-python",
   "name": "python",
   "nbconvert_exporter": "python",
   "pygments_lexer": "ipython3",
   "version": "3.12.4"
  }
 },
 "nbformat": 4,
 "nbformat_minor": 5
}
